{
 "cells": [
  {
   "cell_type": "markdown",
   "metadata": {},
   "source": [
    "# Metis Introduction to Data Science Course Project\n",
    "## Felipe Rios Ribeiro"
   ]
  },
  {
   "cell_type": "markdown",
   "metadata": {},
   "source": [
    "### What is the question you hope to answer?\n",
    "\n",
    "I selected a challenge from Kaggle named \"House Prices - Advanced Regression Techniques\", available at https://www.kaggle.com/c/house-prices-advanced-regression-techniques/overview.\n",
    "\n",
    "With this project I expect to check: How might we predict house prices using key data and features from houses such as area, age, location, style, condition, etc."
   ]
  },
  {
   "cell_type": "markdown",
   "metadata": {},
   "source": [
    "### What data are you planning to use to answer that question?\n",
    "\n",
    "The available data for this challenge can be found here: https://www.kaggle.com/c/house-prices-advanced-regression-techniques/data\n",
    "\n",
    "There are 2 key datasets for this project:\n",
    "\n",
    "#### 1. Train.csv\n",
    "This file contains approximately 80 fields with variables from over 1,400 residential homes in Ames, Iowa, USA. This is where most of the exploratory data analysis, feature engineering and regression testing will be done. This dataset also includes the actual sale price for the houses, so the algorithm can be tested using correlation and the other linear algebra concepts explored in our classes with Alex.\n",
    "\n",
    "#### 2. Test.csv\n",
    "This file contains similar variables for another group of almost 1,500 houses, but without the price. This is where the algorithm's accuracy can be tested by predicting the sales price for these properties."
   ]
  },
  {
   "cell_type": "markdown",
   "metadata": {},
   "source": [
    "### What do you know about the data you're using so far?\n",
    "\n",
    "The data is in .csv file and structured in a database format, facilitating its analysis in Python. I saw the data contains several missing values and only represent the prices for one city in the United States, from several years ago. Therefore, my model intially might not be applicable to the Australian housing market.\n",
    "\n",
    "I don't expect to use all 80 variables available to predict the house prices, but will confirm that once I progress with the algorithm."
   ]
  },
  {
   "cell_type": "markdown",
   "metadata": {},
   "source": [
    "### Why did you choose this topic?\n",
    "\n",
    "I like regression analysis and believe price prediction is a significant area within data science. I also find the real estate market very interesting, and super relevant in Australia. Therefore, it is an example I relate to and am very curious to explore further.\n"
   ]
  },
  {
   "cell_type": "markdown",
   "metadata": {},
   "source": [
    "### Will you be able to answer your question with this data, or do you need to gather more data (or adjust your question)?\n",
    "\n",
    "I believe the variety of features and number of records in the above datasets will be enough to test the initial assumptions around price, and its correlation with the different variables. "
   ]
  },
  {
   "cell_type": "markdown",
   "metadata": {},
   "source": [
    "### What modeling approach are you using to answer your question?\n",
    "\n",
    "I will be using linear regression and concepts explored in our workshops with Alex, aiming to build a forecast model for the house prices.\n",
    "\n",
    "Specifically, I expect to do the following:\n",
    "\n",
    "1. Data cleaning:\n",
    "Remove missing variables and duplicated information\n",
    "\n",
    "2. Identify the critical features:\n",
    "Explore the main characteristics of the dataset and define the most important variables affecting the house price\n",
    "\n",
    "3. Feature engineering\n",
    "\n"
   ]
  },
  {
   "cell_type": "code",
   "execution_count": null,
   "metadata": {},
   "outputs": [],
   "source": []
  }
 ],
 "metadata": {
  "kernelspec": {
   "display_name": "Python 3",
   "language": "python",
   "name": "python3"
  },
  "language_info": {
   "codemirror_mode": {
    "name": "ipython",
    "version": 3
   },
   "file_extension": ".py",
   "mimetype": "text/x-python",
   "name": "python",
   "nbconvert_exporter": "python",
   "pygments_lexer": "ipython3",
   "version": "3.8.5"
  }
 },
 "nbformat": 4,
 "nbformat_minor": 4
}
